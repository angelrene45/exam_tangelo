{
 "cells": [
  {
   "cell_type": "markdown",
   "metadata": {},
   "source": [
    "In this NoteBooks:\n",
    "\n",
    "- Import Modules and methods\n",
    "- Make API request and get json (restcountries)\n",
    "- Process Json into DataFrame\n",
    "- Show time statistics\n",
    "- Create sqlite database from DataFrame\n",
    "- Create json from DataFrame"
   ]
  },
  {
   "cell_type": "markdown",
   "metadata": {},
   "source": [
    "#### Import Modules and methods"
   ]
  },
  {
   "cell_type": "code",
   "execution_count": 4,
   "metadata": {},
   "outputs": [],
   "source": [
    "import os \n",
    "\n",
    "from modules.utils import make_request, process_countries, create_sqllite_from_dataframe, show_statistics"
   ]
  },
  {
   "cell_type": "markdown",
   "metadata": {},
   "source": [
    "#### Make API request and get json (restcountries)"
   ]
  },
  {
   "cell_type": "code",
   "execution_count": 5,
   "metadata": {},
   "outputs": [
    {
     "name": "stdout",
     "output_type": "stream",
     "text": [
      "Success API request!\n"
     ]
    },
    {
     "data": {
      "text/plain": [
       "{'name': {'common': 'Greenland',\n",
       "  'official': 'Greenland',\n",
       "  'nativeName': {'kal': {'official': 'Kalaallit Nunaat',\n",
       "    'common': 'Kalaallit Nunaat'}}},\n",
       " 'tld': ['.gl'],\n",
       " 'cca2': 'GL',\n",
       " 'ccn3': '304',\n",
       " 'cca3': 'GRL',\n",
       " 'independent': False,\n",
       " 'status': 'officially-assigned',\n",
       " 'unMember': False,\n",
       " 'currencies': {'DKK': {'name': 'krone', 'symbol': 'kr.'}},\n",
       " 'idd': {'root': '+2', 'suffixes': ['99']},\n",
       " 'capital': ['Nuuk'],\n",
       " 'altSpellings': ['GL', 'Grønland'],\n",
       " 'region': 'Americas',\n",
       " 'subregion': 'North America',\n",
       " 'languages': {'kal': 'Greenlandic'},\n",
       " 'translations': {'ara': {'official': 'جرينلاند', 'common': 'جرينلاند'},\n",
       "  'ces': {'official': 'Grónsko', 'common': 'Grónsko'},\n",
       "  'cym': {'official': 'Greenland', 'common': 'Greenland'},\n",
       "  'deu': {'official': 'Grönland', 'common': 'Grönland'},\n",
       "  'est': {'official': 'Gröönimaa', 'common': 'Gröönimaa'},\n",
       "  'fin': {'official': 'Groönlanti', 'common': 'Groönlanti'},\n",
       "  'fra': {'official': 'Groenland', 'common': 'Groenland'},\n",
       "  'hrv': {'official': 'Grenland', 'common': 'Grenland'},\n",
       "  'hun': {'official': 'Grönland', 'common': 'Grönland'},\n",
       "  'ita': {'official': 'Groenlandia', 'common': 'Groenlandia'},\n",
       "  'jpn': {'official': 'グリーンランド', 'common': 'グリーンランド'},\n",
       "  'kor': {'official': '그린란드', 'common': '그린란드'},\n",
       "  'nld': {'official': 'Groenland', 'common': 'Groenland'},\n",
       "  'per': {'official': 'گروئنلند', 'common': 'گرینلند'},\n",
       "  'pol': {'official': 'Grenlandia', 'common': 'Grenlandia'},\n",
       "  'por': {'official': 'Groenlândia', 'common': 'Gronelândia'},\n",
       "  'rus': {'official': 'Гренландия', 'common': 'Гренландия'},\n",
       "  'slk': {'official': 'Grónsko', 'common': 'Grónsko'},\n",
       "  'spa': {'official': 'Groenlandia', 'common': 'Groenlandia'},\n",
       "  'swe': {'official': 'Grönland', 'common': 'Grönland'},\n",
       "  'urd': {'official': 'گرین لینڈ', 'common': 'گرین لینڈ'},\n",
       "  'zho': {'official': '格陵兰', 'common': '格陵兰'}},\n",
       " 'latlng': [72.0, -40.0],\n",
       " 'landlocked': False,\n",
       " 'area': 2166086.0,\n",
       " 'demonyms': {'eng': {'f': 'Greenlandic', 'm': 'Greenlandic'},\n",
       "  'fra': {'f': 'Groenlandaise', 'm': 'Groenlandais'}},\n",
       " 'flag': '🇬🇱',\n",
       " 'maps': {'googleMaps': 'https://goo.gl/maps/j3289UPEQXt1ceSy8',\n",
       "  'openStreetMaps': 'https://www.openstreetmap.org/relation/2184073'},\n",
       " 'population': 56367,\n",
       " 'car': {'signs': ['DK'], 'side': 'right'},\n",
       " 'timezones': ['UTC-04:00', 'UTC-03:00', 'UTC-01:00', 'UTC+00:00'],\n",
       " 'continents': ['North America'],\n",
       " 'flags': {'png': 'https://flagcdn.com/w320/gl.png',\n",
       "  'svg': 'https://flagcdn.com/gl.svg'},\n",
       " 'coatOfArms': {'png': 'https://mainfacts.com/media/images/coats_of_arms/gl.png',\n",
       "  'svg': 'https://mainfacts.com/media/images/coats_of_arms/gl.svg'},\n",
       " 'startOfWeek': 'monday',\n",
       " 'capitalInfo': {'latlng': [64.18, -51.75]},\n",
       " 'postalCode': {'format': '####', 'regex': '^(\\\\d{4})$'}}"
      ]
     },
     "execution_count": 5,
     "metadata": {},
     "output_type": "execute_result"
    }
   ],
   "source": [
    "# get all countries json\n",
    "response, status_request = make_request('https://restcountries.com/v3.1/all')\n",
    "# print first country and see the structure\n",
    "response.json()[0]"
   ]
  },
  {
   "cell_type": "markdown",
   "metadata": {},
   "source": [
    "#### Process Json into DataFrame"
   ]
  },
  {
   "cell_type": "code",
   "execution_count": 10,
   "metadata": {},
   "outputs": [
    {
     "data": {
      "text/html": [
       "<div>\n",
       "<style scoped>\n",
       "    .dataframe tbody tr th:only-of-type {\n",
       "        vertical-align: middle;\n",
       "    }\n",
       "\n",
       "    .dataframe tbody tr th {\n",
       "        vertical-align: top;\n",
       "    }\n",
       "\n",
       "    .dataframe thead th {\n",
       "        text-align: right;\n",
       "    }\n",
       "</style>\n",
       "<table border=\"1\" class=\"dataframe\">\n",
       "  <thead>\n",
       "    <tr style=\"text-align: right;\">\n",
       "      <th></th>\n",
       "      <th>Region</th>\n",
       "      <th>City Name</th>\n",
       "      <th>Language</th>\n",
       "      <th>Time</th>\n",
       "    </tr>\n",
       "  </thead>\n",
       "  <tbody>\n",
       "    <tr>\n",
       "      <th>0</th>\n",
       "      <td>Americas</td>\n",
       "      <td>Greenland</td>\n",
       "      <td>4f3cadca02ab29bdc3cf5ae2f21128c91fd8ac24</td>\n",
       "      <td>0.0 ms</td>\n",
       "    </tr>\n",
       "    <tr>\n",
       "      <th>1</th>\n",
       "      <td>Americas</td>\n",
       "      <td>El Salvador</td>\n",
       "      <td>8df7f1b361b2af42d36011e00d22c0f9891ec0b0</td>\n",
       "      <td>0.0 ms</td>\n",
       "    </tr>\n",
       "    <tr>\n",
       "      <th>2</th>\n",
       "      <td>Asia</td>\n",
       "      <td>Georgia</td>\n",
       "      <td>aca441ddd2e8d07643b87c1b24a828fa5b4b3e42</td>\n",
       "      <td>0.0 ms</td>\n",
       "    </tr>\n",
       "    <tr>\n",
       "      <th>3</th>\n",
       "      <td>Americas</td>\n",
       "      <td>Guyana</td>\n",
       "      <td>649df08a448ee3fa90f3746baaf6b0907df42c91</td>\n",
       "      <td>0.0 ms</td>\n",
       "    </tr>\n",
       "    <tr>\n",
       "      <th>4</th>\n",
       "      <td>Europe</td>\n",
       "      <td>Montenegro</td>\n",
       "      <td>f617672f7c9487885f593d5d61b5b420236d4505</td>\n",
       "      <td>0.0 ms</td>\n",
       "    </tr>\n",
       "    <tr>\n",
       "      <th>...</th>\n",
       "      <td>...</td>\n",
       "      <td>...</td>\n",
       "      <td>...</td>\n",
       "      <td>...</td>\n",
       "    </tr>\n",
       "    <tr>\n",
       "      <th>245</th>\n",
       "      <td>Asia</td>\n",
       "      <td>Mongolia</td>\n",
       "      <td>c3bdbab40a4be4ac1b8eb1ccb2dbb2eaf8ed480f</td>\n",
       "      <td>0.0 ms</td>\n",
       "    </tr>\n",
       "    <tr>\n",
       "      <th>246</th>\n",
       "      <td>Americas</td>\n",
       "      <td>Guatemala</td>\n",
       "      <td>8df7f1b361b2af42d36011e00d22c0f9891ec0b0</td>\n",
       "      <td>0.0 ms</td>\n",
       "    </tr>\n",
       "    <tr>\n",
       "      <th>247</th>\n",
       "      <td>Europe</td>\n",
       "      <td>Czechia</td>\n",
       "      <td>b4ffe73700fc249842a8c3533be5a96482ea1d68</td>\n",
       "      <td>0.0 ms</td>\n",
       "    </tr>\n",
       "    <tr>\n",
       "      <th>248</th>\n",
       "      <td>Europe</td>\n",
       "      <td>Hungary</td>\n",
       "      <td>80cb96f852d1ce7ae9b00c59c13912122674f7ce</td>\n",
       "      <td>0.0 ms</td>\n",
       "    </tr>\n",
       "    <tr>\n",
       "      <th>249</th>\n",
       "      <td>Europe</td>\n",
       "      <td>Svalbard and Jan Mayen</td>\n",
       "      <td>79b723002f87708ebc11fd4f3b902a03f7c9a5c1</td>\n",
       "      <td>0.0 ms</td>\n",
       "    </tr>\n",
       "  </tbody>\n",
       "</table>\n",
       "<p>250 rows × 4 columns</p>\n",
       "</div>"
      ],
      "text/plain": [
       "       Region               City Name  \\\n",
       "0    Americas               Greenland   \n",
       "1    Americas             El Salvador   \n",
       "2        Asia                 Georgia   \n",
       "3    Americas                  Guyana   \n",
       "4      Europe              Montenegro   \n",
       "..        ...                     ...   \n",
       "245      Asia                Mongolia   \n",
       "246  Americas               Guatemala   \n",
       "247    Europe                 Czechia   \n",
       "248    Europe                 Hungary   \n",
       "249    Europe  Svalbard and Jan Mayen   \n",
       "\n",
       "                                     Language    Time  \n",
       "0    4f3cadca02ab29bdc3cf5ae2f21128c91fd8ac24  0.0 ms  \n",
       "1    8df7f1b361b2af42d36011e00d22c0f9891ec0b0  0.0 ms  \n",
       "2    aca441ddd2e8d07643b87c1b24a828fa5b4b3e42  0.0 ms  \n",
       "3    649df08a448ee3fa90f3746baaf6b0907df42c91  0.0 ms  \n",
       "4    f617672f7c9487885f593d5d61b5b420236d4505  0.0 ms  \n",
       "..                                        ...     ...  \n",
       "245  c3bdbab40a4be4ac1b8eb1ccb2dbb2eaf8ed480f  0.0 ms  \n",
       "246  8df7f1b361b2af42d36011e00d22c0f9891ec0b0  0.0 ms  \n",
       "247  b4ffe73700fc249842a8c3533be5a96482ea1d68  0.0 ms  \n",
       "248  80cb96f852d1ce7ae9b00c59c13912122674f7ce  0.0 ms  \n",
       "249  79b723002f87708ebc11fd4f3b902a03f7c9a5c1  0.0 ms  \n",
       "\n",
       "[250 rows x 4 columns]"
      ]
     },
     "execution_count": 10,
     "metadata": {},
     "output_type": "execute_result"
    }
   ],
   "source": [
    "# to process json to dataframe dont take any seconds but for demo purpose I put delay param\n",
    "df = process_countries(response, encrypt_language=True, delay=0) # for demo purpose put delay=0.001\n",
    "df"
   ]
  },
  {
   "cell_type": "markdown",
   "metadata": {},
   "source": [
    "#### Show time statistics"
   ]
  },
  {
   "cell_type": "code",
   "execution_count": 7,
   "metadata": {},
   "outputs": [
    {
     "name": "stdout",
     "output_type": "stream",
     "text": [
      "total time: 6.61 ms \n",
      "mean: 0.02644 ms \n",
      "min_time: 0.0 ms \n",
      "max_time: 5.96 ms \n",
      "\n"
     ]
    }
   ],
   "source": [
    "# print the time statistics\n",
    "show_statistics(df)"
   ]
  },
  {
   "cell_type": "markdown",
   "metadata": {},
   "source": [
    "#### Create sqlite database from DataFrame"
   ]
  },
  {
   "cell_type": "code",
   "execution_count": 8,
   "metadata": {},
   "outputs": [
    {
     "name": "stderr",
     "output_type": "stream",
     "text": [
      "c:\\Users\\angel\\.conda\\envs\\tangelo\\lib\\site-packages\\pandas\\core\\generic.py:2879: UserWarning: The spaces in these column names will not be changed. In pandas versions < 0.14, spaces were converted to underscores.\n",
      "  method=method,\n"
     ]
    },
    {
     "name": "stdout",
     "output_type": "stream",
     "text": [
      "Sqlite file created successfuly: d:\\Proyectos\\python\\exam_tangelo\\output\\countries.sqlite\n"
     ]
    }
   ],
   "source": [
    "# create sqllite from dataframe\n",
    "path_sqlite = \"output/countries.sqlite\"\n",
    "name_table = \"countries\"\n",
    "is_created = create_sqllite_from_dataframe(path_sqlite, name_table, df)\n",
    "# get absolute path and print\n",
    "path_abs = os.path.abspath(path_sqlite)\n",
    "if os.path.isfile(path_sqlite): print(f\"Sqlite file created successfuly: {path_abs}\")"
   ]
  },
  {
   "cell_type": "markdown",
   "metadata": {},
   "source": [
    "#### Create json from DataFrame"
   ]
  },
  {
   "cell_type": "code",
   "execution_count": 9,
   "metadata": {},
   "outputs": [
    {
     "name": "stdout",
     "output_type": "stream",
     "text": [
      "Json file created successfuly: d:\\Proyectos\\python\\exam_tangelo\\output\\countries.json\n"
     ]
    }
   ],
   "source": [
    "# create json and store from dataframe\n",
    "path_json = \"output/countries.json\"\n",
    "df.to_json(path_json)\n",
    "# get absolute path and print\n",
    "path_abs = os.path.abspath(path_json)\n",
    "if os.path.isfile(path_sqlite): print(f\"Json file created successfuly: {path_abs}\")"
   ]
  }
 ],
 "metadata": {
  "kernelspec": {
   "display_name": "Python 3.7.13 ('tangelo')",
   "language": "python",
   "name": "python3"
  },
  "language_info": {
   "codemirror_mode": {
    "name": "ipython",
    "version": 3
   },
   "file_extension": ".py",
   "mimetype": "text/x-python",
   "name": "python",
   "nbconvert_exporter": "python",
   "pygments_lexer": "ipython3",
   "version": "3.7.13"
  },
  "orig_nbformat": 4,
  "vscode": {
   "interpreter": {
    "hash": "848c7924399ada08c9d1f0f0e95923c72540ffe33dd7bd9a3d6b5db542135b00"
   }
  }
 },
 "nbformat": 4,
 "nbformat_minor": 2
}
